{
 "cells": [
  {
   "cell_type": "code",
   "execution_count": 2,
   "metadata": {},
   "outputs": [
    {
     "data": {
      "text/plain": [
       "'\\n打开摄像头：\\n    对于每一帧\\n    运动物体识别：\\n        录像\\n        人脸框选：\\n            人脸识别：\\n                非人脸警报\\n关闭摄像头\\n\\n打开声音传感器：\\n    分贝>:\\n        哭声检测：\\n            警报\\n关闭声音传感器\\n'"
      ]
     },
     "execution_count": 2,
     "metadata": {},
     "output_type": "execute_result"
    }
   ],
   "source": [
    "'''\n",
    "打开摄像头：\n",
    "    对于每一帧\n",
    "    运动物体识别：\n",
    "        录像\n",
    "        人脸框选：\n",
    "            人脸识别：\n",
    "                非人脸警报 发送邮件\n",
    "关闭摄像头\n",
    "\n",
    "打开声音传感器：\n",
    "    分贝>:\n",
    "        哭声检测：\n",
    "            警报\n",
    "关闭声音传感器\n",
    "'''\n"
   ]
  },
  {
   "cell_type": "code",
   "execution_count": null,
   "metadata": {},
   "outputs": [],
   "source": []
  },
  {
   "cell_type": "code",
   "execution_count": null,
   "metadata": {},
   "outputs": [],
   "source": []
  },
  {
   "cell_type": "code",
   "execution_count": null,
   "metadata": {},
   "outputs": [],
   "source": []
  }
 ],
 "metadata": {
  "kernelspec": {
   "display_name": "Python 3",
   "language": "python",
   "name": "python3"
  },
  "language_info": {
   "codemirror_mode": {
    "name": "ipython",
    "version": 3
   },
   "file_extension": ".py",
   "mimetype": "text/x-python",
   "name": "python",
   "nbconvert_exporter": "python",
   "pygments_lexer": "ipython3",
   "version": "3.7.4"
  }
 },
 "nbformat": 4,
 "nbformat_minor": 2
}
