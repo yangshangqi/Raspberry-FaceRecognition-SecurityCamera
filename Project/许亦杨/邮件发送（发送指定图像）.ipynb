{
 "cells": [
  {
   "cell_type": "code",
   "execution_count": 1,
   "metadata": {},
   "outputs": [],
   "source": [
    "import cv2\n",
    "import smtplib\n",
    "import sys\n",
    "import os\n",
    "import time\n",
    "from email.mime.image import MIMEImage\n",
    "from email.mime.multipart import MIMEMultipart\n",
    "from email.mime.text import MIMEText"
   ]
  },
  {
   "cell_type": "code",
   "execution_count": 2,
   "metadata": {},
   "outputs": [
    {
     "data": {
      "text/plain": [
       "'\\n    os.getcwd() 方法\\n        用于返回当前工作目录，无参数\\n'"
      ]
     },
     "execution_count": 2,
     "metadata": {},
     "output_type": "execute_result"
    }
   ],
   "source": [
    "#设置参数：\n",
    "smtpserver  = '3299115821@qq.com'     # smtp服务器\n",
    "username    = '3299115821@qq.com'     # 发件邮箱账号\n",
    "password    = 'ndudpbtzsczddcac'             # 邮箱登录密码\n",
    "sender      = '3299115821@qq.com'     # 发件人\n",
    "addressee   = '3299115821@qq.com'     # 收件人\n",
    "exit_count  = 10                       # 尝试联网次数\n",
    "path        = os.getcwd()             #获取图片保存路径 \n",
    "'''\n",
    "    os.getcwd() 方法\n",
    "        用于返回当前工作目录，无参数\n",
    "'''"
   ]
  },
  {
   "cell_type": "code",
   "execution_count": 3,
   "metadata": {},
   "outputs": [],
   "source": [
    "#构造邮件内容：\n",
    "def setMsg():\n",
    "    # 下面依次为邮件类型，主题，发件人和收件人。\n",
    "    msg = MIMEMultipart('mixed')\n",
    "    msg['Subject'] = '出现非家庭成员！'\n",
    "    msg['From'] = '3299115821@qq.com <3299115821@qq.com>'\n",
    "    msg['To'] = addressee\n",
    "\n",
    "    # 下面为邮件的正文\n",
    "    text = \"主人，出现非家庭成员！照片如下！\"\n",
    "    text_plain = MIMEText(text, 'plain', 'utf-8')\n",
    "    msg.attach(text_plain)\n",
    "\n",
    "    # 构造图片链接\n",
    "    sendimagefile = open(path+'/person.jpg', 'rb').read()\n",
    "    image = MIMEImage(sendimagefile)\n",
    "    # 下面一句将收件人看到的附件照片名称改为people.png。\n",
    "    image[\"Content-Disposition\"] = 'attachment; filename=\"people.png\"'\n",
    "    msg.attach(image)\n",
    "    return msg.as_string()"
   ]
  },
  {
   "cell_type": "code",
   "execution_count": 4,
   "metadata": {},
   "outputs": [],
   "source": [
    "#实现邮件发送：\n",
    "def sendEmail(msg):\n",
    "    # 发送邮件\n",
    "    smtp = smtplib.SMTP()\n",
    "    smtp.connect('smtp.qq.com')\n",
    "    smtp.login(username, password)\n",
    "    smtp.sendmail(sender, addressee, msg)\n",
    "    smtp.quit()"
   ]
  },
  {
   "cell_type": "code",
   "execution_count": 5,
   "metadata": {},
   "outputs": [],
   "source": [
    "msg = setMsg()\n",
    "sendEmail(msg)"
   ]
  },
  {
   "cell_type": "code",
   "execution_count": null,
   "metadata": {},
   "outputs": [],
   "source": []
  }
 ],
 "metadata": {
  "kernelspec": {
   "display_name": "Python 3",
   "language": "python",
   "name": "python3"
  },
  "language_info": {
   "codemirror_mode": {
    "name": "ipython",
    "version": 3
   },
   "file_extension": ".py",
   "mimetype": "text/x-python",
   "name": "python",
   "nbconvert_exporter": "python",
   "pygments_lexer": "ipython3",
   "version": "3.7.0"
  }
 },
 "nbformat": 4,
 "nbformat_minor": 4
}
