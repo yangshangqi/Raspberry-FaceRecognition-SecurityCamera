{
 "cells": [
  {
   "cell_type": "code",
   "execution_count": 2,
   "metadata": {},
   "outputs": [],
   "source": [
    "import cv2\n",
    "import numpy as np\n",
    "\n",
    "\n",
    "cap = cv2.VideoCapture(0)\n",
    "\n",
    "#创建VideoWrite对象，10是fps（每秒读取的帧数），(640,480)是屏幕大小\n",
    "fourcc = cv2.VideoWriter_fourcc(*'XVID')\n",
    "out = cv2.VideoWriter('./cameraoutput.avi', fourcc, 25, (640,480))\n",
    "\n",
    "video_len = 250\n",
    "if cap.isOpened():\n",
    "    while(video_len>0):\n",
    "        '''\n",
    "            cv2.VideoCapture(0).read()\n",
    "                功能：读取一帧的图片\n",
    "                参数：无\n",
    "                返回值：1.（boolean值）是否读取到图片\n",
    "                        2.一帧图片\n",
    "        '''\n",
    "        ret, frame = cap.read()\n",
    "        #保存写入这一帧图像frame:\n",
    "        out.write(frame)\n",
    "        #显示这一帧图像frame:\n",
    "        cv2.imshow(\"capture\", frame)\n",
    "        #当按下'q'键时退出：\n",
    "        if cv2.waitKey(1) & 0xFF == ord('q'):\n",
    "            break\n",
    "        video_len -= 1\n",
    "\n",
    "\n",
    "cap.release()\n",
    "out.release()\n",
    "cv2.destroyAllWindows()"
   ]
  },
  {
   "cell_type": "code",
   "execution_count": null,
   "metadata": {},
   "outputs": [],
   "source": []
  }
 ],
 "metadata": {
  "kernelspec": {
   "display_name": "Python 3",
   "language": "python",
   "name": "python3"
  },
  "language_info": {
   "codemirror_mode": {
    "name": "ipython",
    "version": 3
   },
   "file_extension": ".py",
   "mimetype": "text/x-python",
   "name": "python",
   "nbconvert_exporter": "python",
   "pygments_lexer": "ipython3",
   "version": "3.7.0"
  }
 },
 "nbformat": 4,
 "nbformat_minor": 4
}
